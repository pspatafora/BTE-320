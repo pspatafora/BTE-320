{
  "nbformat": 4,
  "nbformat_minor": 0,
  "metadata": {
    "colab": {
      "provenance": [],
      "include_colab_link": true
    },
    "kernelspec": {
      "name": "python3",
      "display_name": "Python 3"
    },
    "language_info": {
      "name": "python"
    }
  },
  "cells": [
    {
      "cell_type": "markdown",
      "metadata": {
        "id": "view-in-github",
        "colab_type": "text"
      },
      "source": [
        "<a href=\"https://colab.research.google.com/github/pspatafora/BTE-320/blob/main/RockPaperScissors%3BLeapYearCalculation.ipynb\" target=\"_parent\"><img src=\"https://colab.research.google.com/assets/colab-badge.svg\" alt=\"Open In Colab\"/></a>"
      ]
    },
    {
      "cell_type": "code",
      "execution_count": null,
      "metadata": {
        "colab": {
          "base_uri": "https://localhost:8080/"
        },
        "id": "UbEo-8kvtqVR",
        "outputId": "e3efa3fd-930f-4fbc-c9f7-443f1a0ae504"
      },
      "outputs": [
        {
          "name": "stdout",
          "output_type": "stream",
          "text": [
            "Enter in Rock, Paper, or Scissors: rock\n",
            "User chooses Rock\n",
            "Computer chooses Paper\n",
            "You Lose!\n",
            "User Wins:  0 \n",
            "User Losses:  1 \n",
            "User Ties:  0\n",
            "Would you like to play again? (y/n) y\n",
            "Enter in Rock, Paper, or Scissors: scissors\n",
            "User chooses Scissors\n",
            "Computer chooses Rock\n",
            "You Lose!\n",
            "User Wins:  0 \n",
            "User Losses:  2 \n",
            "User Ties:  0\n",
            "Would you like to play again? (y/n) y\n",
            "Enter in Rock, Paper, or Scissors: rock\n",
            "User chooses Rock\n",
            "Computer chooses Rock\n",
            "It's a Tie!\n",
            "User Wins:  0 \n",
            "User Losses:  2 \n",
            "User Ties:  1\n",
            "Would you like to play again? (y/n) n\n"
          ]
        }
      ],
      "source": [
        "#Rock, Paper, Scissors\n",
        "import random\n",
        "user_choice = \"\"\n",
        "user_wins = 0\n",
        "user_ties = 0\n",
        "user_losses = 0\n",
        "#User Choice\n",
        "while True:\n",
        "  while True:\n",
        "    user_choice = input(\"Enter in Rock, Paper, or Scissors: \")\n",
        "    user_choice = user_choice.capitalize()\n",
        "    print(\"User chooses\",user_choice)\n",
        "    if user_choice in [\"Rock\", \"Paper\",\"Scissors\"]:\n",
        "      break\n",
        "    else:\n",
        "      print(\"Enter in Rock, Paper, or Scissors\")\n",
        "\n",
        "  #PC Choice\n",
        "  pc_choice = random.choice([\"Rock\",\"Paper\", \"Scissors\"])\n",
        "  print(\"Computer chooses\",pc_choice)\n",
        "\n",
        "  #Processing\n",
        "  if user_choice == pc_choice:\n",
        "    print(\"It's a Tie!\")\n",
        "    user_ties += 1\n",
        "  elif (user_choice == (\"Rock\") and pc_choice == (\"Paper\")) or (user_choice == \"Scissors\" and pc_choice == \"Rock\") or (user_choice == \"Paper\" and pc_choice == \"Scissors\"):\n",
        "    print(\"You Lose!\")\n",
        "    user_losses += 1\n",
        "  else:\n",
        "    print(\"You Win!\")\n",
        "    user_wins += 1\n",
        "  print(\"User Wins: \",user_wins, \"\\nUser Losses: \",user_losses,\"\\nUser Ties: \",user_ties)\n",
        "  play_again = input(\"Would you like to play again? (y/n) \")\n",
        "  if play_again != \"y\":\n",
        "    break\n",
        "\n",
        "\n"
      ]
    },
    {
      "cell_type": "code",
      "source": [
        "#Rock, Paper, Scissors\n",
        "import random\n",
        "from IPython.display import clear_output\n",
        "clear_output()\n",
        "from ColabTurtlePlus.Turtle import *\n",
        "\n",
        "user_choice = \"\"\n",
        "\n",
        "user_wins = 0\n",
        "user_ties = 0\n",
        "user_losses = 0\n",
        "#User Choice\n",
        "while True:\n",
        "  clear_output()\n",
        "  while True:\n",
        "    user_choice = input(\"Enter in Rock, Paper, or Scissors: \")\n",
        "    user_choice = user_choice.capitalize()\n",
        "    print(\"User chooses\",user_choice)\n",
        "    if user_choice in [\"Rock\", \"Paper\",\"Scissors\"]:\n",
        "      break\n",
        "    else:\n",
        "      print(\"Enter in Rock, Paper, or Scissors\")\n",
        "\n",
        "  #PC Choice\n",
        "  pc_choice = random.choice([\"Rock\",\"Paper\", \"Scissors\"])\n",
        "  print(\"Computer chooses\",pc_choice)\n",
        "\n",
        "  #Processing\n",
        "  if user_choice == pc_choice:\n",
        "    print(\"It's a Tie!\")\n",
        "    user_ties += 1\n",
        "  elif (user_choice == (\"Rock\") and pc_choice == (\"Paper\")) or (user_choice == \"Scissors\" and pc_choice == \"Rock\") or (user_choice == \"Paper\" and pc_choice == \"Scissors\"):\n",
        "    print(\"You Lose!\")\n",
        "    user_losses += 1\n",
        "  else:\n",
        "    print(\"You Win!\")\n",
        "    user_wins += 1\n",
        "\n",
        "  print(\"User Wins: \",user_wins, \"\\nUser Losses: \",user_losses,\"\\nUser Ties: \",user_ties)\n",
        "  play_again = input(\"Would you like to play again? (y/n) \")\n",
        "  if play_again != \"y\":\n",
        "    clear_output()\n",
        "    break\n"
      ],
      "metadata": {
        "id": "BJbYGwa34iYT"
      },
      "execution_count": null,
      "outputs": []
    },
    {
      "cell_type": "code",
      "source": [
        "!pip install ColabTurtlePlus"
      ],
      "metadata": {
        "colab": {
          "base_uri": "https://localhost:8080/"
        },
        "id": "bRgNf2hG63Nn",
        "outputId": "916c1326-7d6b-4480-e533-ecc9ff87906d"
      },
      "execution_count": null,
      "outputs": [
        {
          "output_type": "stream",
          "name": "stdout",
          "text": [
            "Requirement already satisfied: ColabTurtlePlus in /usr/local/lib/python3.10/dist-packages (2.0.1)\n"
          ]
        }
      ]
    },
    {
      "cell_type": "code",
      "source": [
        "current_year = float(input(\"Enter in a year: \"))\n",
        "\n",
        "if current_year%4 == 0:\n",
        "  if current_year%100 == 0:\n",
        "    if current_year%400 ==0:\n",
        "      print(\"Leap Year\")\n",
        "    else:\n",
        "      print(\"No Leap Year\")\n",
        "  else:\n",
        "    print(\"Leap Year\")\n",
        "else:\n",
        "   print(\"No Leap Year\")"
      ],
      "metadata": {
        "colab": {
          "base_uri": "https://localhost:8080/"
        },
        "id": "xQ8FXSvY4WRE",
        "outputId": "0f9bd38f-fe23-4f4a-ff99-9afd58a4a1e4"
      },
      "execution_count": null,
      "outputs": [
        {
          "output_type": "stream",
          "name": "stdout",
          "text": [
            "Enter in a year: 1900\n",
            "No Leap Year\n"
          ]
        }
      ]
    },
    {
      "cell_type": "code",
      "source": [
        "current_year = float(input(\"Enter in a year: \"))\n",
        "if current_year%4 == 0:\n",
        "\n",
        "  print(\"Leap Year\")\n",
        "else:\n",
        "  print(\"No Leap Year\")"
      ],
      "metadata": {
        "colab": {
          "base_uri": "https://localhost:8080/",
          "height": 140
        },
        "id": "KWpKhELi67f4",
        "outputId": "e784a947-3873-4cfb-e2de-a06964363850"
      },
      "execution_count": null,
      "outputs": [
        {
          "output_type": "error",
          "ename": "SyntaxError",
          "evalue": "invalid syntax (<ipython-input-47-8f1bfe6af9e7>, line 3)",
          "traceback": [
            "\u001b[0;36m  File \u001b[0;32m\"<ipython-input-47-8f1bfe6af9e7>\"\u001b[0;36m, line \u001b[0;32m3\u001b[0m\n\u001b[0;31m    if current_year%4 == 0 or current_year%400 ==0 not current_year%100 ==0:\u001b[0m\n\u001b[0m                                                       ^\u001b[0m\n\u001b[0;31mSyntaxError\u001b[0m\u001b[0;31m:\u001b[0m invalid syntax\n"
          ]
        }
      ]
    },
    {
      "cell_type": "code",
      "source": [
        "Amount_of_months = 0\n",
        "deposit = 0\n",
        "downpayment = 10000\n",
        "Monthly_Payment = 100\n",
        "\n",
        "while deposit <= downpayment:\n",
        "  deposit += Monthly_Payment\n",
        "  Amount_of_months += 1\n",
        "\n",
        "print(f'{Amount_of_months} Months to match the down payment')"
      ],
      "metadata": {
        "colab": {
          "base_uri": "https://localhost:8080/"
        },
        "id": "6zDyYMP-9rfs",
        "outputId": "2852202e-dd89-4d54-dbce-c5ce163df482"
      },
      "execution_count": null,
      "outputs": [
        {
          "output_type": "stream",
          "name": "stdout",
          "text": [
            "101 Months to match the down payment\n"
          ]
        }
      ]
    }
  ]
}