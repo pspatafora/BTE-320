{
  "nbformat": 4,
  "nbformat_minor": 0,
  "metadata": {
    "colab": {
      "provenance": [],
      "include_colab_link": true
    },
    "kernelspec": {
      "name": "python3",
      "display_name": "Python 3"
    },
    "language_info": {
      "name": "python"
    }
  },
  "cells": [
    {
      "cell_type": "markdown",
      "metadata": {
        "id": "view-in-github",
        "colab_type": "text"
      },
      "source": [
        "<a href=\"https://colab.research.google.com/github/pspatafora/BTE-320/blob/main/AssignmentSet.ipynb\" target=\"_parent\"><img src=\"https://colab.research.google.com/assets/colab-badge.svg\" alt=\"Open In Colab\"/></a>"
      ]
    },
    {
      "cell_type": "markdown",
      "source": [
        "# Problem Set 2"
      ],
      "metadata": {
        "id": "mqKVIuY-mxNU"
      }
    },
    {
      "cell_type": "markdown",
      "source": [
        "## Assignment 1: Quality Control (7 points)\n",
        "\n",
        "A quality control manager would like to find the average weight of a list of weights. Prior experience indicates that the first two measures are atypical, and the practice is to exclude these from the average calculation.\n",
        "\n",
        "Write a program that calculates the average of a list of numbers that given as inputs from the user, excluding the first three values.\n",
        "\n",
        "For your program, you must define and use the following functions:\n",
        "- `getValues(n)`: Prompt the user for `n` values, returns the list\n",
        "- `calcAverage(alist)`: Calculates the average from the list"
      ],
      "metadata": {
        "id": "-RSYW1jVm08n"
      }
    },
    {
      "cell_type": "code",
      "execution_count": null,
      "metadata": {
        "id": "AqbgJkgNmvQw",
        "colab": {
          "base_uri": "https://localhost:8080/"
        },
        "outputId": "383c1c5c-754a-46ee-9dda-6a4ff98153ac"
      },
      "outputs": [
        {
          "output_type": "stream",
          "name": "stdout",
          "text": [
            "Enter in the number of weights: 5\n",
            "Input Weight Number 1: .11\n",
            "Input Weight Number 2: .22\n",
            "Input Weight Number 3: .33\n",
            "Input Weight Number 4: .44\n",
            "Input Weight Number 5: .55\n",
            "[0.11, 0.22, 0.33, 0.44, 0.55]\n",
            "The first two items are removed from the average calculation\n",
            "[0.33, 0.44, 0.55]\n",
            "The Average Weight is 0.44 \n"
          ]
        }
      ],
      "source": [
        "def getValues(number_of_values):\n",
        "  weight_list = []\n",
        "  for n in range(int(number_of_values)):\n",
        "    value = float(input(f'Input Weight Number {n+1}: '))\n",
        "    weight_list.append(value)\n",
        "  print(weight_list)\n",
        "  return weight_list\n",
        "\n",
        "def calcAverage(alist):\n",
        "  n = 0\n",
        "  print('The first two items are removed from the average calculation')\n",
        "  alist.pop(0)\n",
        "  alist.pop(0)\n",
        "  print(alist)\n",
        "  for value in alist:\n",
        "    n += value\n",
        "  average = n/len(alist)\n",
        "  print(f'The Average Weight is {round(average,3)} ')\n",
        "\n",
        "alist = getValues(input(\"How many weights do you want to give?: \"))\n",
        "calcAverage(alist)"
      ]
    },
    {
      "cell_type": "markdown",
      "source": [
        "## Assignment 2: Country Statistics Lookup-Multiple Measures (6 points)\n",
        "\n",
        "Assume a program begins with the statement:\n",
        "\n",
        "```python\n",
        "allData = { # dictionary of values for countries\n",
        "    'US': {'pop':325.7, 'gdp': 19.39, 'ccy': 'USD', 'fx':  1.0},\n",
        "    'CA': {'pop': 36.5, 'gdp':  1.65, 'ccy': 'CAD', 'fx':  1.35},\n",
        "    'MX': {'pop':129.2, 'gdp':  1.15, 'ccy': 'MXN', 'fx': 19.68}\n",
        "    }\n",
        "```\n",
        "\n",
        "Write subsequent statements that (in a loop) prompt the user for a country code (`US`, `CA`, or `MX`), then prompt for a measure name (`pop`, `gdp`, `ccy`, or `fx`), then look up in the above dictionary for the corresponding value, and display it.\n",
        "\n",
        "Example run:\n",
        "```\n",
        "Please enter a country code: CA\n",
        "Please enter a statistic: pop\n",
        "CA pop = 36.5\n",
        "```\n",
        "\n",
        "Your program should handle the cases where a user-entered country code or measure name is not found."
      ],
      "metadata": {
        "id": "QFO0Kzx8ncnv"
      }
    },
    {
      "cell_type": "code",
      "source": [
        "allData = { # dictionary of values for countries\n",
        "    'US': {'pop':325.7, 'gdp': 19.39, 'ccy': 'USD', 'fx':  1.0},\n",
        "    'CA': {'pop': 36.5, 'gdp':  1.65, 'ccy': 'CAD', 'fx':  1.35},\n",
        "    'MX': {'pop':129.2, 'gdp':  1.15, 'ccy': 'MXN', 'fx': 19.68}\n",
        "    }\n",
        "\n",
        "while True:\n",
        "  while True:\n",
        "    country_code = input(\"Please enter a county code: \")\n",
        "    if country_code in ['US', 'CA', 'MX']:\n",
        "      break\n",
        "    else:\n",
        "      print(\"Country Code not found, Try Again\")\n",
        "\n",
        "  while True:\n",
        "    statistic = input(\"Please enter a statistic: \")\n",
        "    if statistic in ['pop','gdp','ccy','fx']:\n",
        "      break\n",
        "    else:\n",
        "      print(\"Statistic not found, Try Again\")\n",
        "\n",
        "  country_dict = allData[country_code]\n",
        "  print(f'The {statistic} of {country_code} is {country_dict[statistic]}')\n",
        "\n",
        "  user_input = input(f'Would you like to continue? (y/n): ')\n",
        "  if user_input == 'y':\n",
        "    continue\n",
        "  else:\n",
        "    break\n"
      ],
      "metadata": {
        "id": "NZFjRINKowEW",
        "colab": {
          "base_uri": "https://localhost:8080/"
        },
        "outputId": "8f2be92a-f39c-4f21-fd46-da4d63d2532c"
      },
      "execution_count": null,
      "outputs": [
        {
          "name": "stdout",
          "output_type": "stream",
          "text": [
            "Please enter a county code: US\n",
            "Please enter a statistic: pop\n",
            "The pop of US is 325.7\n",
            "Would you like to continue? (y/n): y\n",
            "Please enter a county code: US\n",
            "Please enter a statistic: pop\n",
            "The pop of US is 325.7\n",
            "Would you like to continue? (y/n): n\n"
          ]
        }
      ]
    },
    {
      "cell_type": "markdown",
      "source": [
        "## Assignment 3: Parking Garage (6 points)\n",
        "\n",
        "Write a program to compute the fee for parking in a garage for a number of hours.\n",
        "\n",
        "The program should:\n",
        "- Prompt the user for how many hours parked\n",
        "- Calculate the fee based on the following rules:\n",
        "  - $2.50/hour\n",
        "\n",
        "  - minimum fee is $6.00\n",
        "\n",
        "  - maximum fee is $20.00\n",
        "- Print the result\n",
        "\n",
        "For your program, define and use the following two functions:\n",
        "```python\n",
        "# use input() to prompt for the # of hours parked, return this value\n",
        "def getParkingHours()\n",
        "\n",
        "# takes as input hours (a number), returns the parking fee\n",
        "def calcParkingFee()\n",
        "```"
      ],
      "metadata": {
        "id": "GjaUFrnfpKFf"
      }
    },
    {
      "cell_type": "code",
      "source": [
        "def getParkingHours():\n",
        "  return float(input('Enter the number of hours parked: '))\n",
        "\n",
        "def calcParkingFee(hours):\n",
        "  if hours * 2.5 < 6:\n",
        "    return 6\n",
        "  elif hours * 2.5 > 20:\n",
        "    return 20\n",
        "  else:\n",
        "    return hours * 2.5\n",
        "\n",
        "hours = getParkingHours()\n",
        "fee = calcParkingFee(hours)\n",
        "print(f'Charge: ${fee}')"
      ],
      "metadata": {
        "id": "5ha4O3V5pwNN",
        "colab": {
          "base_uri": "https://localhost:8080/"
        },
        "outputId": "8fa777a3-0d5e-41a8-c064-c69496fd7588"
      },
      "execution_count": null,
      "outputs": [
        {
          "output_type": "stream",
          "name": "stdout",
          "text": [
            "Enter the number of hours parked: 3\n",
            "Charge: $7.5\n"
          ]
        }
      ]
    },
    {
      "cell_type": "markdown",
      "source": [
        "## Assignment 4: Tuition (6 points)\n",
        "\n",
        "A college charges tuition according to the following:\n",
        "- 12 or more credits: $20,000/semester\n",
        "\n",
        "- 1-11 credits: $1,200 + $1,700 per credit\n",
        "\n",
        "Write a program that prompts the user for a number of credits and determines and displays the tuition for the semester. As part of your program, define and use the following function:\n",
        "```python\n",
        "def calcTuition(credits)\n",
        "```\n",
        "The function returns the tuition for a given number of credits"
      ],
      "metadata": {
        "id": "gipBObe5qm-2"
      }
    },
    {
      "cell_type": "code",
      "source": [
        "def calcTuition(credits):\n",
        "  if 0 < credits <= 11:\n",
        "    tuition = 1200 + 1700 * credits\n",
        "  elif credits > 11:\n",
        "    tuition = 20000\n",
        "  else:\n",
        "    print(f'Enter a positive number')\n",
        "  print(f'Your Tuition is ${tuition}')\n",
        "\n",
        "calcTuition(int(input(f'Enter the number of credits you are taking: ')))"
      ],
      "metadata": {
        "id": "BPcn9ywzrL8y",
        "colab": {
          "base_uri": "https://localhost:8080/"
        },
        "outputId": "f3ffcf61-5524-479f-815b-aea684aebe20"
      },
      "execution_count": null,
      "outputs": [
        {
          "output_type": "stream",
          "name": "stdout",
          "text": [
            "Enter the number of credits you are taking: 12\n",
            "Your Tuition is $20000\n"
          ]
        }
      ]
    }
  ]
}