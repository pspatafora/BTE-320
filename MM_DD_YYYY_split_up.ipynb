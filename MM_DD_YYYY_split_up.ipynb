{
  "nbformat": 4,
  "nbformat_minor": 0,
  "metadata": {
    "colab": {
      "provenance": [],
      "authorship_tag": "ABX9TyOonxQm4FvXIwvJLi6ZqTLv",
      "include_colab_link": true
    },
    "kernelspec": {
      "name": "python3",
      "display_name": "Python 3"
    },
    "language_info": {
      "name": "python"
    }
  },
  "cells": [
    {
      "cell_type": "markdown",
      "metadata": {
        "id": "view-in-github",
        "colab_type": "text"
      },
      "source": [
        "<a href=\"https://colab.research.google.com/github/pspatafora/BTE-320/blob/main/MM_DD_YYYY_split_up.ipynb\" target=\"_parent\"><img src=\"https://colab.research.google.com/assets/colab-badge.svg\" alt=\"Open In Colab\"/></a>"
      ]
    },
    {
      "cell_type": "code",
      "execution_count": 2,
      "metadata": {
        "colab": {
          "base_uri": "https://localhost:8080/"
        },
        "id": "eZWdfFuTw3L7",
        "outputId": "8f7af1a2-1682-4829-ddbb-3c1e7b6be6a3"
      },
      "outputs": [
        {
          "output_type": "stream",
          "name": "stdout",
          "text": [
            "Enter in a date: (MM/DD/YYYY) 04/02/2003\n",
            "Month =  04\n",
            "Day =  02\n",
            "Year =  2003\n"
          ]
        }
      ],
      "source": [
        "#Write a program that takes an input from the keyboard a string that corresponds\n",
        "#To a date (e.g., 02/20/2024)\n",
        "\n",
        "Date = input('Enter in a date: (MM/DD/YYYY) ')\n",
        "\n",
        "Month = Date[0:2]\n",
        "Day = Date[3:5]\n",
        "Year = Date[6:10]\n",
        "\n",
        "print(\"Month = \",Month)\n",
        "print(\"Day = \",Day)\n",
        "print(\"Year = \",Year)"
      ]
    }
  ]
}