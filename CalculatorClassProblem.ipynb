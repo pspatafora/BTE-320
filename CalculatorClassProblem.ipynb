{
  "nbformat": 4,
  "nbformat_minor": 0,
  "metadata": {
    "colab": {
      "provenance": [],
      "include_colab_link": true
    },
    "kernelspec": {
      "name": "python3",
      "display_name": "Python 3"
    },
    "language_info": {
      "name": "python"
    }
  },
  "cells": [
    {
      "cell_type": "markdown",
      "metadata": {
        "id": "view-in-github",
        "colab_type": "text"
      },
      "source": [
        "<a href=\"https://colab.research.google.com/github/pspatafora/BTE-320/blob/main/CalculatorClassProblem.ipynb\" target=\"_parent\"><img src=\"https://colab.research.google.com/assets/colab-badge.svg\" alt=\"Open In Colab\"/></a>"
      ]
    },
    {
      "cell_type": "code",
      "execution_count": 16,
      "metadata": {
        "id": "9CBxvkiilbtf",
        "colab": {
          "base_uri": "https://localhost:8080/"
        },
        "outputId": "7ccd757e-bc80-4532-945b-f62078932ff2"
      },
      "outputs": [
        {
          "output_type": "stream",
          "name": "stdout",
          "text": [
            "Enter in the first number: 5\n",
            "Enter in the the operator [+, -, *, **, /, //, %]: %\n",
            "Enter in the second number: 3\n",
            "5 % 3 = 2.0\n",
            "Would you like to preform another calculation? [y/n]: n\n",
            "Calculater Terminated\n"
          ]
        }
      ],
      "source": [
        "#Design a Calculater\n",
        "\n",
        "List_of_Operators = [\"+\",\"-\",\"*\",\"**\",\"/\",\"//\",\"%\"]\n",
        "\n",
        "while True:\n",
        "\n",
        "  #User Input for Number 1\n",
        "\n",
        "  while True:\n",
        "    Num1 = input(\"Enter in the first number: \")\n",
        "    try:\n",
        "      float(Num1)\n",
        "    except:\n",
        "      print(\"Error-Please enter in a number\")\n",
        "    else:\n",
        "      break\n",
        "  #Checks if Operator selected is in list of Acceptable Operators\n",
        "\n",
        "  while True:\n",
        "    Operator = input(\"Enter in the the operator [+, -, *, **, /, //, %]: \")\n",
        "    if Operator in List_of_Operators:\n",
        "      break\n",
        "    else:\n",
        "      print(\"Invalid Operator: \", Operator)\n",
        "\n",
        "  #User Input for Number 2\n",
        "\n",
        "  while True:\n",
        "    Num2 = input(\"Enter in the second number: \")\n",
        "    try:\n",
        "      float(Num2)\n",
        "    except:\n",
        "      print(\"Error-Please enter in a number\")\n",
        "    else:\n",
        "      break\n",
        "\n",
        "  #Preform The Calculation\n",
        "\n",
        "  if Operator == \"+\":\n",
        "    Answer = float(Num1) + float(Num2)\n",
        "  elif Operator == \"-\":\n",
        "    Answer = float(Num1) - float(Num2)\n",
        "  elif Operator == \"*\":\n",
        "    Answer = float(Num1) * float(Num2)\n",
        "  elif Operator == \"**\":\n",
        "    Answer = float(Num1) ** float(Num2)\n",
        "  elif Operator == \"/\":\n",
        "    Answer = float(Num1) / float(Num2)\n",
        "  elif Operator == \"//\":\n",
        "    Answer = float(Num1) // float(Num2)\n",
        "  elif Operator == \"%\":\n",
        "    Answer = float(Num1) % float(Num2)\n",
        "\n",
        "  print(Num1,Operator,Num2,\"=\",round(Answer,3))\n",
        "\n",
        "  #Asks to preform another calculation, if not breaks the loop\n",
        "  TryAgain = input(\"Would you like to preform another calculation? [y/n]: \")\n",
        "  if TryAgain == \"n\":\n",
        "    print(\"Calculater Terminated\")\n",
        "    break\n",
        "\n"
      ]
    }
  ]
}