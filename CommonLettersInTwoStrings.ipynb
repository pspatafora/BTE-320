{
  "nbformat": 4,
  "nbformat_minor": 0,
  "metadata": {
    "colab": {
      "provenance": [],
      "include_colab_link": true
    },
    "kernelspec": {
      "name": "python3",
      "display_name": "Python 3"
    },
    "language_info": {
      "name": "python"
    }
  },
  "cells": [
    {
      "cell_type": "markdown",
      "metadata": {
        "id": "view-in-github",
        "colab_type": "text"
      },
      "source": [
        "<a href=\"https://colab.research.google.com/github/pspatafora/BTE-320/blob/main/CommonLettersInTwoStrings.ipynb\" target=\"_parent\"><img src=\"https://colab.research.google.com/assets/colab-badge.svg\" alt=\"Open In Colab\"/></a>"
      ]
    },
    {
      "cell_type": "code",
      "execution_count": null,
      "metadata": {
        "id": "98WONtywjew0",
        "colab": {
          "base_uri": "https://localhost:8080/"
        },
        "outputId": "61a70df8-127a-4fb5-b9af-a16cca45fba4"
      },
      "outputs": [
        {
          "output_type": "stream",
          "name": "stdout",
          "text": [
            "1\n",
            "2\n",
            "3\n",
            "4\n",
            "5\n",
            "6\n",
            "7\n"
          ]
        }
      ],
      "source": [
        "s = [1,2,3,4,5,6,7]\n",
        "\n",
        "for i in s:\n",
        "  print(i)"
      ]
    },
    {
      "cell_type": "code",
      "source": [
        "s1 = \"abcdefdgijk\"\n",
        "\n",
        "s2 = \"abcdegfhijk\"\n",
        "\n",
        "common_letters = []\n",
        "for i in range(len(s1)-1):\n",
        "  if s1[i] in s2:\n",
        "    common_letters.append(s1[i])\n",
        "  else:\n",
        "    continue\n",
        "\n",
        "print(common_letters)"
      ],
      "metadata": {
        "colab": {
          "base_uri": "https://localhost:8080/"
        },
        "id": "J5mwUotW-sKK",
        "outputId": "922f3cc0-3a21-443f-d829-81baa6ffcf33"
      },
      "execution_count": null,
      "outputs": [
        {
          "output_type": "stream",
          "name": "stdout",
          "text": [
            "['a', 'b', 'c', 'd', 'e', 'f', 'd', 'g', 'i', 'j']\n"
          ]
        }
      ]
    }
  ]
}