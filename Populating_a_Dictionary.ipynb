{
  "nbformat": 4,
  "nbformat_minor": 0,
  "metadata": {
    "colab": {
      "provenance": [],
      "authorship_tag": "ABX9TyNyb+PvKEQwM+QMbEHAytck",
      "include_colab_link": true
    },
    "kernelspec": {
      "name": "python3",
      "display_name": "Python 3"
    },
    "language_info": {
      "name": "python"
    }
  },
  "cells": [
    {
      "cell_type": "markdown",
      "metadata": {
        "id": "view-in-github",
        "colab_type": "text"
      },
      "source": [
        "<a href=\"https://colab.research.google.com/github/pspatafora/BTE-320/blob/main/Populating_a_Dictionary.ipynb\" target=\"_parent\"><img src=\"https://colab.research.google.com/assets/colab-badge.svg\" alt=\"Open In Colab\"/></a>"
      ]
    },
    {
      "cell_type": "code",
      "execution_count": 2,
      "metadata": {
        "colab": {
          "base_uri": "https://localhost:8080/"
        },
        "id": "ui9QHb116Ba9",
        "outputId": "711065c6-2a26-4a88-866b-a3326b145526"
      },
      "outputs": [
        {
          "output_type": "stream",
          "name": "stdout",
          "text": [
            "{1: 'January', 2: 'Febuary', 3: 'March', 4: 'April', 5: 'May', 6: 'June', 7: 'July', 8: 'August', 9: 'September', 10: 'October', 11: 'November', 12: 'December'}\n"
          ]
        }
      ],
      "source": [
        "months = {}\n",
        "\n",
        "numbers = [1,2,3,4,5,6,7,8,9,10,11,12]\n",
        "names = ['January','Febuary','March','April','May','June','July','August','September','October','November','December']\n",
        "\n",
        "for i in range(len(numbers)):\n",
        "  months[numbers[i]]=names[i]\n",
        "\n",
        "print(months)"
      ]
    }
  ]
}