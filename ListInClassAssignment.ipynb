{
  "nbformat": 4,
  "nbformat_minor": 0,
  "metadata": {
    "colab": {
      "provenance": [],
      "authorship_tag": "ABX9TyMda2p8xjW+HAO78JpZhxty",
      "include_colab_link": true
    },
    "kernelspec": {
      "name": "python3",
      "display_name": "Python 3"
    },
    "language_info": {
      "name": "python"
    }
  },
  "cells": [
    {
      "cell_type": "markdown",
      "metadata": {
        "id": "view-in-github",
        "colab_type": "text"
      },
      "source": [
        "<a href=\"https://colab.research.google.com/github/pspatafora/BTE-320/blob/main/ListInClassAssignment.ipynb\" target=\"_parent\"><img src=\"https://colab.research.google.com/assets/colab-badge.svg\" alt=\"Open In Colab\"/></a>"
      ]
    },
    {
      "cell_type": "code",
      "execution_count": null,
      "metadata": {
        "id": "uinmfX0MA-lz"
      },
      "outputs": [],
      "source": [
        "List = []\n",
        "\n",
        "while True:\n",
        "\n",
        "  num = input(\"Enter in an integer or 0 to stop: \")\n",
        "\n",
        "  if num != 0:\n",
        "    List.append(num)\n",
        "    print(List)\n",
        "  else:\n",
        "    print(List)\n",
        "    break\n",
        "\n",
        "\n",
        "\n",
        ""
      ]
    }
  ]
}