{
  "nbformat": 4,
  "nbformat_minor": 0,
  "metadata": {
    "colab": {
      "provenance": [],
      "authorship_tag": "ABX9TyOcThkEl9WjhPaUqnq7ovD7",
      "include_colab_link": true
    },
    "kernelspec": {
      "name": "python3",
      "display_name": "Python 3"
    },
    "language_info": {
      "name": "python"
    }
  },
  "cells": [
    {
      "cell_type": "markdown",
      "metadata": {
        "id": "view-in-github",
        "colab_type": "text"
      },
      "source": [
        "<a href=\"https://colab.research.google.com/github/pspatafora/BTE-320/blob/main/GarageFee.ipynb\" target=\"_parent\"><img src=\"https://colab.research.google.com/assets/colab-badge.svg\" alt=\"Open In Colab\"/></a>"
      ]
    },
    {
      "cell_type": "code",
      "execution_count": null,
      "metadata": {
        "id": "raasIYJ3Kezg",
        "outputId": "50e7a469-87ca-4981-904c-8aca52e960c8",
        "colab": {
          "base_uri": "https://localhost:8080/"
        }
      },
      "outputs": [
        {
          "output_type": "stream",
          "name": "stdout",
          "text": [
            "Collecting ColabTurtlePlus\n",
            "  Downloading ColabTurtlePlus-2.0.1-py3-none-any.whl (31 kB)\n",
            "Installing collected packages: ColabTurtlePlus\n",
            "Successfully installed ColabTurtlePlus-2.0.1\n"
          ]
        }
      ],
      "source": [
        "!pip install ColabTurtlePlus"
      ]
    },
    {
      "cell_type": "code",
      "source": [
        "from ColabTurtlePlus.Turtle import *\n",
        "\n",
        "clearscreen()\n",
        "\n",
        "color('black', 'green')\n",
        "\n",
        "begin_fill()\n",
        "\n",
        "for n in range(4):\n",
        "  forward(100)\n",
        "  left(90)\n",
        "\n",
        "end_fill()"
      ],
      "metadata": {
        "colab": {
          "base_uri": "https://localhost:8080/",
          "height": 621
        },
        "id": "RAPjw85yetmJ",
        "outputId": "d4ecaf35-cfd9-43db-cb75-0ea665ea716a"
      },
      "execution_count": null,
      "outputs": [
        {
          "output_type": "display_data",
          "data": {
            "text/plain": [
              "<IPython.core.display.HTML object>"
            ],
            "text/html": [
              "\n",
              "      <svg width=\"800\" height=\"600\">  \n",
              "        <rect width=\"100%\" height=\"100%\" style=\"fill:white;stroke:;stroke-width:1\"/>\n",
              "        \n",
              "        \n",
              "        <path fill-rule=\"evenodd\" fill-opacity=\"1\" d=\"M 400.0 300.0  L 500.0 300.0  L 500.0 200.0  L 400.0 200.0  L 400.0 300.0 \" stroke-linecap=\"round\" style=\"stroke:black;stroke-width:1\" fill=\"green\" />\n",
              "        \n",
              "        \n",
              "        <g id=\"classic\" visibility=\"visible\" transform=\"rotate(-90,400.0,300.0) translate(400.0, 300.0)\">\n",
              "<polygon points=\"-5,-4.5 0,-2.5 5,-4.5 0,4.5\" transform=\"skewX(0) scale(1,1)\" style=\"stroke:black;fill:green;stroke-width:1\" />\n",
              "</g>\n",
              "      </svg>\n",
              "    "
            ]
          },
          "metadata": {}
        }
      ]
    },
    {
      "cell_type": "code",
      "source": [
        "print(f'Hours\\tFee')\n",
        "for n in range(1,9):\n",
        "  fee = 5 + 2.5*n\n",
        "  if fee < 10:\n",
        "    fee = 10.0\n",
        "  elif fee > 20:\n",
        "    fee = 20.0\n",
        "  print(f'{n}\\t${fee}')\n",
        "\n"
      ],
      "metadata": {
        "colab": {
          "base_uri": "https://localhost:8080/"
        },
        "id": "cSL4bbMIrrEh",
        "outputId": "25f1695b-1561-4f21-e878-508db76440b3"
      },
      "execution_count": null,
      "outputs": [
        {
          "output_type": "stream",
          "name": "stdout",
          "text": [
            "Hours\tFee\n",
            "1\t$10.0\n",
            "2\t$10.0\n",
            "3\t$12.5\n",
            "4\t$15.0\n",
            "5\t$17.5\n",
            "6\t$20.0\n",
            "7\t$20.0\n",
            "8\t$20.0\n"
          ]
        }
      ]
    },
    {
      "cell_type": "code",
      "source": [
        "from ast import NamedExpr\n",
        "Name = []\n",
        "for n in range(7):\n",
        "  AddLetter = input('Type in one letter: ')\n",
        "  Name.append(AddLetter)\n",
        "  print(Name)\n",
        "\n"
      ],
      "metadata": {
        "colab": {
          "base_uri": "https://localhost:8080/"
        },
        "id": "3wC6dkRkU24T",
        "outputId": "45e3263f-401c-41aa-d1b9-fa964f05442d"
      },
      "execution_count": null,
      "outputs": [
        {
          "output_type": "stream",
          "name": "stdout",
          "text": [
            "Type in one letter: p\n",
            "['p']\n",
            "Type in one letter: a\n",
            "['p', 'a']\n",
            "Type in one letter: t\n",
            "['p', 'a', 't']\n",
            "Type in one letter: r\n",
            "['p', 'a', 't', 'r']\n",
            "Type in one letter: i\n",
            "['p', 'a', 't', 'r', 'i']\n",
            "Type in one letter: c\n",
            "['p', 'a', 't', 'r', 'i', 'c']\n",
            "Type in one letter: k\n",
            "['p', 'a', 't', 'r', 'i', 'c', 'k']\n"
          ]
        }
      ]
    },
    {
      "cell_type": "code",
      "source": [
        "d = {'alice': '305-284-0000',\n",
        "     'bob': '518-530-7578'}\n",
        "\n",
        "number = input('>')\n",
        "\n",
        "if number in d.values():\n",
        "  print(\"found it\")\n",
        "else:\n",
        "  print(\"Name does not exist\")"
      ],
      "metadata": {
        "colab": {
          "base_uri": "https://localhost:8080/"
        },
        "id": "20KIxaE5bCgX",
        "outputId": "e6f4d434-afb4-4e52-eece-252365ca0613"
      },
      "execution_count": null,
      "outputs": [
        {
          "output_type": "stream",
          "name": "stdout",
          "text": [
            ">518-530-7578\n",
            "found it\n"
          ]
        }
      ]
    },
    {
      "cell_type": "code",
      "source": [
        "(nn\n"
      ],
      "metadata": {
        "id": "xwYgvC4GcR6L"
      },
      "execution_count": null,
      "outputs": []
    }
  ]
}