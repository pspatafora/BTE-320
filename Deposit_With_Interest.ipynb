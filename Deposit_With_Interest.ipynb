{
  "nbformat": 4,
  "nbformat_minor": 0,
  "metadata": {
    "colab": {
      "provenance": [],
      "authorship_tag": "ABX9TyNM9nicIH2hzPIBEiW6kTAi",
      "include_colab_link": true
    },
    "kernelspec": {
      "name": "python3",
      "display_name": "Python 3"
    },
    "language_info": {
      "name": "python"
    }
  },
  "cells": [
    {
      "cell_type": "markdown",
      "metadata": {
        "id": "view-in-github",
        "colab_type": "text"
      },
      "source": [
        "<a href=\"https://colab.research.google.com/github/pspatafora/BTE-320/blob/main/Deposit_With_Interest.ipynb\" target=\"_parent\"><img src=\"https://colab.research.google.com/assets/colab-badge.svg\" alt=\"Open In Colab\"/></a>"
      ]
    },
    {
      "cell_type": "code",
      "execution_count": 1,
      "metadata": {
        "colab": {
          "base_uri": "https://localhost:8080/"
        },
        "id": "M18aPMlf3Xfw",
        "outputId": "734369bc-7f41-4cc6-86dc-0cef546e41d1"
      },
      "outputs": [
        {
          "output_type": "stream",
          "name": "stdout",
          "text": [
            "Hi, please enter your name: Patrick\n",
            "Enter customer type (n: new, e: existing)n\n",
            "Enter deposit amount: $1000\n",
            "Patrick, you will have $1030.0 in your account!\n"
          ]
        }
      ],
      "source": [
        "Name = input('Hi, please enter your name: ')\n",
        "Customer_type = input('Enter customer type (n: new, e: existing)')\n",
        "Deposit = float(input(\"Enter deposit amount: $\"))\n",
        "\n",
        "if Customer_type == 'n':\n",
        "  Interest = .03\n",
        "else:\n",
        "  if Deposit <= 1000:\n",
        "    Interest = float(.03)\n",
        "  elif Deposit <= 10000:\n",
        "    Interest = float(.0325)\n",
        "  elif Deposit > 10000:\n",
        "    Interest = float(.035)\n",
        "\n",
        "Amount = (1+ Interest) * Deposit\n",
        "print(f'{Name}, you will have ${round(Amount,2)} in your account!')"
      ]
    }
  ]
}