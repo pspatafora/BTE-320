{
  "nbformat": 4,
  "nbformat_minor": 0,
  "metadata": {
    "colab": {
      "provenance": [],
      "authorship_tag": "ABX9TyO0rIBTz28zHjG4AyYg/NMc",
      "include_colab_link": true
    },
    "kernelspec": {
      "name": "python3",
      "display_name": "Python 3"
    },
    "language_info": {
      "name": "python"
    }
  },
  "cells": [
    {
      "cell_type": "markdown",
      "metadata": {
        "id": "view-in-github",
        "colab_type": "text"
      },
      "source": [
        "<a href=\"https://colab.research.google.com/github/pspatafora/BTE-320/blob/main/DirtyBondPrice.ipynb\" target=\"_parent\"><img src=\"https://colab.research.google.com/assets/colab-badge.svg\" alt=\"Open In Colab\"/></a>"
      ]
    },
    {
      "cell_type": "code",
      "source": [
        "from datetime import datetime, timedelta\n",
        "\n",
        "    #Find Bond present value at the time of the last coupon\n",
        "def bond_dirty_price(C, r, n, T, F, last_coupon_date, settlement_date):\n",
        "    Present_Value = 0\n",
        "    num_payments_remaining = int(T* n)\n",
        "    for num_payments_remaining in range(1, num_payments_remaining+1):\n",
        "      Present_Value += C / ((1 + r/n)**num_payments_remaining)\n",
        "    Present_Value += F / ((1 +r/n)**(T * n))\n",
        "    print(\"Present Value of Cash Flows is: \", round(Present_Value,3))\n",
        "\n",
        "    #Calculate FV of Bond Clean Price to the present date\n",
        "    total_days_between_coupon = (next_coupon_date - last_coupon_date).days\n",
        "    print(\"Total Days Between coupons: \",total_days_between_coupon)\n",
        "    days_since_last_coupon = (settlement_date - last_coupon_date).days\n",
        "    print(\"Days since last coupon: \", days_since_last_coupon)\n",
        "\n",
        "    #Calculate the interest rate to the settlement date\n",
        "    Rate_to_settlement_date = (1+(r/n))**(1-(((total_days_between_coupon)-days_since_last_coupon )/ (total_days_between_coupon)))\n",
        "    print(\"The rate to calculate accrued interest to the settlement date is: \", round(Rate_to_settlement_date,5))\n",
        "\n",
        "    #Calculate the dirty price\n",
        "    dirty_price = Present_Value * Rate_to_settlement_date\n",
        "    print(\"The dirty price of the bond is: \", round(dirty_price,3))\n",
        "\n",
        "    #Calculate accrued interest\n",
        "    accrued_interest = (days_since_last_coupon / (total_days_between_coupon)) * C\n",
        "    print(\"Accrued Interest of the bond is: \", round(accrued_interest,3))\n",
        "\n",
        "    #Calculate the Clean Price of the bond by subtracting the dirty price-accrued interest\n",
        "    clean_price = dirty_price - accrued_interest\n",
        "    print(\"The clean price of the bond is: \", round(clean_price,3))\n",
        "\n",
        "    return dirty_price\n",
        "\n",
        "# Assumptions\n",
        "coupon_payment = 30  # replace with your coupon payment\n",
        "interest_rate = 0.062  # replace with your yield to maturity\n",
        "periods_per_year = 2  # replace with your number of periods per year\n",
        "total_years = 2  # replace with your total number of years from the last coupon recieved to maturity\n",
        "face_value = 1000  # replace with your face value\n",
        "\n",
        "# Replace with actual dates (format: year, month, day)\n",
        "last_coupon_date = datetime(2030, 8, 15)\n",
        "next_coupon_date = datetime(2031, 2, 15)\n",
        "settlement_date = datetime(2030, 10, 30)\n",
        "\n",
        "result = bond_dirty_price(coupon_payment, interest_rate, periods_per_year, total_years, face_value, last_coupon_date, settlement_date)\n",
        "\n"
      ],
      "metadata": {
        "colab": {
          "base_uri": "https://localhost:8080/"
        },
        "id": "Ii7ms5_FVAPe",
        "outputId": "94bf3c2d-f9ff-4dd2-fd36-393b9547882e"
      },
      "execution_count": 1,
      "outputs": [
        {
          "output_type": "stream",
          "name": "stdout",
          "text": [
            "Present Value of Cash Flows is:  996.292\n",
            "Total Days Between coupons:  184\n",
            "Days since last coupon:  76\n",
            "The rate to calculate accrued interest to the settlement date is:  1.01269\n",
            "The dirty price of the bond is:  1008.934\n",
            "Accrued Interest of the bond is:  12.391\n",
            "The clean price of the bond is:  996.543\n"
          ]
        }
      ]
    }
  ]
}