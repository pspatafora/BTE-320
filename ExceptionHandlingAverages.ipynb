{
  "nbformat": 4,
  "nbformat_minor": 0,
  "metadata": {
    "colab": {
      "provenance": [],
      "authorship_tag": "ABX9TyM4yPPT2Q+Mr0KeA+kfKV3s",
      "include_colab_link": true
    },
    "kernelspec": {
      "name": "python3",
      "display_name": "Python 3"
    },
    "language_info": {
      "name": "python"
    }
  },
  "cells": [
    {
      "cell_type": "markdown",
      "metadata": {
        "id": "view-in-github",
        "colab_type": "text"
      },
      "source": [
        "<a href=\"https://colab.research.google.com/github/pspatafora/BTE-320/blob/main/ExceptionHandlingAverages.ipynb\" target=\"_parent\"><img src=\"https://colab.research.google.com/assets/colab-badge.svg\" alt=\"Open In Colab\"/></a>"
      ]
    },
    {
      "cell_type": "code",
      "execution_count": 15,
      "metadata": {
        "id": "EWhHBDEH2p4z"
      },
      "outputs": [],
      "source": [
        "def Average_Value_of_List(alist):\n",
        "  Sum = 0\n",
        "\n",
        "  try:\n",
        "    for value in alist:\n",
        "      Sum += value\n",
        "\n",
        "    Average = Sum/len(alist)\n",
        "    print(f'Average Value is {round(Average,2)}')\n",
        "  except TypeError:\n",
        "    print(f'Error: List does not only contain numbers')\n",
        "  except ZeroDivisionError:\n",
        "    print(f'Error: List has 0 length')\n",
        "  except:\n",
        "    print('program encountered an unknown error')\n",
        "  print(f'Program Ends')\n",
        "\n"
      ]
    },
    {
      "cell_type": "code",
      "source": [
        "alist = [1,2,3,4,5,6,7,8,9,0,9,63,4,5,3,2,3,4,4,5,333,5,5]\n",
        "Average_Value_of_List(alist)"
      ],
      "metadata": {
        "colab": {
          "base_uri": "https://localhost:8080/"
        },
        "id": "ZE6CBMrO5MkO",
        "outputId": "bdbfc22b-7f6b-4fc7-bc33-2e404dd30b5f"
      },
      "execution_count": 16,
      "outputs": [
        {
          "output_type": "stream",
          "name": "stdout",
          "text": [
            "Average Value is 21.3\n",
            "Program Ends\n"
          ]
        }
      ]
    }
  ]
}