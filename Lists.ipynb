{
  "nbformat": 4,
  "nbformat_minor": 0,
  "metadata": {
    "colab": {
      "provenance": [],
      "authorship_tag": "ABX9TyOrhSlE67X0ARH2ZczG9DiQ",
      "include_colab_link": true
    },
    "kernelspec": {
      "name": "python3",
      "display_name": "Python 3"
    },
    "language_info": {
      "name": "python"
    }
  },
  "cells": [
    {
      "cell_type": "markdown",
      "metadata": {
        "id": "view-in-github",
        "colab_type": "text"
      },
      "source": [
        "<a href=\"https://colab.research.google.com/github/pspatafora/BTE-320/blob/main/Lists.ipynb\" target=\"_parent\"><img src=\"https://colab.research.google.com/assets/colab-badge.svg\" alt=\"Open In Colab\"/></a>"
      ]
    },
    {
      "cell_type": "code",
      "execution_count": 6,
      "metadata": {
        "colab": {
          "base_uri": "https://localhost:8080/"
        },
        "id": "xaMAQkAy02Qi",
        "outputId": "1e0fd582-c013-4388-f599-e7fcee0c5ba5"
      },
      "outputs": [
        {
          "output_type": "stream",
          "name": "stdout",
          "text": [
            "[[1, 2, 3], [4, 5, 6]]\n",
            "[[1, 2, 3], [7, 5, 6]]\n"
          ]
        }
      ],
      "source": [
        "L_outer = [[1,2,3],[4,5,6]]\n",
        "print(L_outer)\n",
        "L_outer[1][0] = 7\n",
        "print(L_outer)"
      ]
    },
    {
      "cell_type": "code",
      "source": [
        "L = [1, 'two', 3.0, 'b',[5,7,9]]\n",
        "\n",
        "s = ['three',9.99,0]\n",
        "L.extend(s)\n",
        "\n",
        "L"
      ],
      "metadata": {
        "colab": {
          "base_uri": "https://localhost:8080/"
        },
        "id": "DMilVhEv2dkE",
        "outputId": "c3d08b50-9c41-4325-ab1c-a01cf12f1e97"
      },
      "execution_count": 8,
      "outputs": [
        {
          "output_type": "execute_result",
          "data": {
            "text/plain": [
              "[1, 'two', 3.0, 'b', [5, 7, 9], 'three', 9.99, 0]"
            ]
          },
          "metadata": {},
          "execution_count": 8
        }
      ]
    }
  ]
}